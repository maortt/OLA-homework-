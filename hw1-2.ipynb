{
 "cells": [
  {
   "cell_type": "code",
   "execution_count": 1,
   "id": "5badb3b1-203c-4d82-bfb1-21596261694a",
   "metadata": {},
   "outputs": [],
   "source": [
    "def number_to_words(n):\n",
    "    edinitsi = [\"\", \"один\", \"два\", \"три\", \"четыре\", \"пять\", \"шесть\", \"семь\", \"восемь\", \"девять\"]\n",
    "    teens = [\"десять\", \"одиннадцать\", \"двенадцать\", \"тринадцать\", \"четырнадцать\", \"пятнадцать\", \"шестнадцать\", \"семнадцать\", \"восемнадцать\", \"девятнадцать\"]\n",
    "    desytki = [\"\", \"десять \", \"двадцать \", \"тридцать \", \"сорок \", \"пятьдесят \", \"шестидесят \", \"семьдесят \", \"восемьдесят \", \"девяносто \"]\n",
    "    sotni = [\"\", \"сто \", \"двести \", \"триста \", \"четыреста \", \"пятьсот \", \"шестсот \", \"семьсот \", \"восемьсот \", \"девятьсот \"]\n",
    "\n",
    "    n_sotni=n // 100\n",
    "    n_ostatok = n % 100\n",
    "    sotni_words=sotni[n_sotni]\n",
    "    ostatok_words=''\n",
    "    if 1 <= n_ostatok < 10:\n",
    "        ostatok_words=edinitsi[n_ostatok]\n",
    "    elif 10 <= n_ostatok < 20:\n",
    "        ostatok_words=teens[n_ostatok - 10]\n",
    "    elif 20 <= n_ostatok < 100:\n",
    "        ostatok_words = desytki[n_ostatok // 10] + edinitsi[n_ostatok % 10] \n",
    "    return sotni[n_sotni]+ostatok_words\n",
    "\n",
    "\n",
    "def main():\n",
    "    try:\n",
    "        number = int(input(\"Введите число от 1 до 999: \"))\n",
    "        if 1 <= number <= 999:\n",
    "            print(number_to_words(number))\n",
    "        else:\n",
    "            print(\"Число вне допустимого диапазона\")\n",
    "    except:\n",
    "        print(\"Введите только натуральное число без каких-либо других знаков\")"
   ]
  },
  {
   "cell_type": "code",
   "execution_count": 2,
   "id": "323f6c64-ead1-4303-8665-d634ba9a569c",
   "metadata": {},
   "outputs": [
    {
     "name": "stdin",
     "output_type": "stream",
     "text": [
      "Введите число от 1 до 999:  112\n"
     ]
    },
    {
     "name": "stdout",
     "output_type": "stream",
     "text": [
      "сто двенадцать\n"
     ]
    }
   ],
   "source": [
    "main()"
   ]
  }
 ],
 "metadata": {
  "kernelspec": {
   "display_name": "Python 3 (ipykernel)",
   "language": "python",
   "name": "python3"
  },
  "language_info": {
   "codemirror_mode": {
    "name": "ipython",
    "version": 3
   },
   "file_extension": ".py",
   "mimetype": "text/x-python",
   "name": "python",
   "nbconvert_exporter": "python",
   "pygments_lexer": "ipython3",
   "version": "3.11.7"
  }
 },
 "nbformat": 4,
 "nbformat_minor": 5
}
