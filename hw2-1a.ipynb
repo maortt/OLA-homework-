{
 "cells": [
  {
   "cell_type": "code",
   "execution_count": 3,
   "id": "20b5e412-cb80-4d69-a5eb-8ea48d9fa04c",
   "metadata": {},
   "outputs": [],
   "source": [
    "def get_grades(input_filename, output_filename):\n",
    "    students = []\n",
    "    total_score = 0\n",
    "    count = 0\n",
    "\n",
    "\n",
    "    with open(input_filename, 'r', encoding='utf-8') as infile:\n",
    "        for line in infile:\n",
    "                name, score = line.split(',')\n",
    "                score_int = int(score)\n",
    "                students.append((name, score_int))\n",
    "                total_score += score_int\n",
    "                count += 1\n",
    "\n",
    "    if count == 0:\n",
    "        average_score = 0\n",
    "    else:\n",
    "        average_score = total_score / count\n",
    "\n",
    "\n",
    "    with open(output_filename, 'w', encoding='utf-8') as outfile:\n",
    "        for name, score in students:\n",
    "            if score > average_score:\n",
    "                outfile.write(name + '\\n')"
   ]
  },
  {
   "cell_type": "code",
   "execution_count": 7,
   "id": "9534febf-387d-472d-932d-f9713024771f",
   "metadata": {},
   "outputs": [],
   "source": [
    "get_grades('input.txt','output.txt')"
   ]
  }
 ],
 "metadata": {
  "kernelspec": {
   "display_name": "Python 3 (ipykernel)",
   "language": "python",
   "name": "python3"
  },
  "language_info": {
   "codemirror_mode": {
    "name": "ipython",
    "version": 3
   },
   "file_extension": ".py",
   "mimetype": "text/x-python",
   "name": "python",
   "nbconvert_exporter": "python",
   "pygments_lexer": "ipython3",
   "version": "3.11.7"
  }
 },
 "nbformat": 4,
 "nbformat_minor": 5
}
