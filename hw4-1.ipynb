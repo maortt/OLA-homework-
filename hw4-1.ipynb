{
 "cells": [
  {
   "cell_type": "code",
   "execution_count": 1,
   "id": "96778313-7d4a-487b-9f52-acd95045f619",
   "metadata": {},
   "outputs": [],
   "source": [
    "def is_balanced(line):\n",
    "    stack = []\n",
    "    matches = {')': '(', '}': '{', ']': '[', '>': '<'}\n",
    "    \n",
    "    for char in line:\n",
    "        if char in '({[<':\n",
    "            stack.append(char)\n",
    "        elif char in ')}]>':\n",
    "            if not stack:\n",
    "                return False\n",
    "            if stack[-1] != matches[char]:\n",
    "                return False \n",
    "            stack.pop()\n",
    "    \n",
    "    return stack==[]\n",
    "\n",
    "def main(input_filename, output_filename):\n",
    "    try:\n",
    "        with open(input_filename, 'r') as infile:\n",
    "            lines = infile.readlines()\n",
    "        \n",
    "        results = []\n",
    "        for line in lines:\n",
    "            balanced = is_balanced(line)\n",
    "            results.append('true' if balanced else 'false')\n",
    "        \n",
    "        with open(output_filename, 'w') as outfile:\n",
    "            outfile.write('\\n'.join(results))\n",
    "    \n",
    "    except FileNotFoundError:\n",
    "        print(f\"Ошибка: Файл {input_filename} не найден.\")\n",
    "    except Exception as e:\n",
    "        print(f\"Произошла ошибка: {e}\")"
   ]
  },
  {
   "cell_type": "code",
   "execution_count": 2,
   "id": "6bd9495f-2b43-4787-8f50-6cdabe7def10",
   "metadata": {},
   "outputs": [],
   "source": [
    "main('input.txt','output.txt')"
   ]
  }
 ],
 "metadata": {
  "kernelspec": {
   "display_name": "Python 3 (ipykernel)",
   "language": "python",
   "name": "python3"
  },
  "language_info": {
   "codemirror_mode": {
    "name": "ipython",
    "version": 3
   },
   "file_extension": ".py",
   "mimetype": "text/x-python",
   "name": "python",
   "nbconvert_exporter": "python",
   "pygments_lexer": "ipython3",
   "version": "3.11.7"
  }
 },
 "nbformat": 4,
 "nbformat_minor": 5
}
