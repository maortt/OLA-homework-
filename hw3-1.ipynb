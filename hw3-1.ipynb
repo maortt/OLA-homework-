{
 "cells": [
  {
   "cell_type": "code",
   "execution_count": 1,
   "id": "bdc9ecc9-c671-47f6-8d57-331c6bdd22d6",
   "metadata": {},
   "outputs": [
    {
     "name": "stdout",
     "output_type": "stream",
     "text": [
      "Requirement already satisfied: pandas in c:\\users\\asus\\anaconda3\\lib\\site-packages (2.1.4)\n",
      "Requirement already satisfied: numpy<2,>=1.23.2 in c:\\users\\asus\\anaconda3\\lib\\site-packages (from pandas) (1.26.4)\n",
      "Requirement already satisfied: python-dateutil>=2.8.2 in c:\\users\\asus\\anaconda3\\lib\\site-packages (from pandas) (2.8.2)\n",
      "Requirement already satisfied: pytz>=2020.1 in c:\\users\\asus\\anaconda3\\lib\\site-packages (from pandas) (2023.3.post1)\n",
      "Requirement already satisfied: tzdata>=2022.1 in c:\\users\\asus\\anaconda3\\lib\\site-packages (from pandas) (2023.3)\n",
      "Requirement already satisfied: six>=1.5 in c:\\users\\asus\\anaconda3\\lib\\site-packages (from python-dateutil>=2.8.2->pandas) (1.16.0)\n"
     ]
    }
   ],
   "source": [
    "!pip install pandas"
   ]
  },
  {
   "cell_type": "code",
   "execution_count": 4,
   "id": "4c487393-c747-4cb1-b586-766aa1025479",
   "metadata": {},
   "outputs": [],
   "source": [
    "import pandas as pd\n",
    "\n",
    "def process_cities(input_filename, output_filename, threshold_population):\n",
    "    try:\n",
    "        df = pd.read_csv(input_filename, delimiter=':', header=None, names=['City', 'Population'])\n",
    "        df['Population'] = pd.to_numeric(df['Population'], errors='coerce')\n",
    "        filtered_df = df[df['Population'] > threshold_population]\n",
    "        sorted_df = filtered_df.sort_values(by='City')\n",
    "\n",
    "        # Запись результатов в выходной файл\n",
    "        sorted_df[['City']].to_csv(output_filename, sep=':', index=False, header=False)\n",
    "\n",
    "    except FileNotFoundError:\n",
    "        print(f\"Ошибка: Файл {input_filename} не найден.\")\n",
    "    except pd.errors.EmptyDataError:\n",
    "        print(\"Ошибка: Входной файл пуст.\")\n",
    "    except Exception as e:\n",
    "        print(f\"Произошла ошибка: {e}\")\n",
    "\n",
    "def main():\n",
    "    input_filename = 'cities.txt'\n",
    "    output_filename = 'filtered_cities.txt'\n",
    "\n",
    "    try:\n",
    "        threshold_population = int(input(\"Введите пороговое значение численности населения: \"))\n",
    "        process_cities(input_filename, output_filename, threshold_population)\n",
    "    except ValueError:\n",
    "        print(\"Ошибка: Введите корректное числовое значение.\")"
   ]
  },
  {
   "cell_type": "code",
   "execution_count": 5,
   "id": "32e67823-0c70-4ba8-8ccd-009c8510c928",
   "metadata": {},
   "outputs": [
    {
     "name": "stdin",
     "output_type": "stream",
     "text": [
      "Введите пороговое значение численности населения:  40\n"
     ]
    }
   ],
   "source": [
    "main()"
   ]
  },
  {
   "cell_type": "markdown",
   "id": "e401e1ef-13cc-4f25-aa32-5c93280542b1",
   "metadata": {},
   "source": []
  }
 ],
 "metadata": {
  "kernelspec": {
   "display_name": "Python 3 (ipykernel)",
   "language": "python",
   "name": "python3"
  },
  "language_info": {
   "codemirror_mode": {
    "name": "ipython",
    "version": 3
   },
   "file_extension": ".py",
   "mimetype": "text/x-python",
   "name": "python",
   "nbconvert_exporter": "python",
   "pygments_lexer": "ipython3",
   "version": "3.11.7"
  }
 },
 "nbformat": 4,
 "nbformat_minor": 5
}
