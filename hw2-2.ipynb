{
 "cells": [
  {
   "cell_type": "code",
   "execution_count": 22,
   "id": "20b5e412-cb80-4d69-a5eb-8ea48d9fa04c",
   "metadata": {},
   "outputs": [],
   "source": [
    "def line_changing(input_filename, output_filename, chars_to_remove):\n",
    "    lines = []\n",
    "    print(chars_to_remove)\n",
    "    chars_to_remove=chars_to_remove+';'+'\\n'\n",
    "\n",
    "\n",
    "    with open(input_filename, 'r', encoding='utf-8') as infile:\n",
    "        for line in infile:\n",
    "            line_striped = line.rstrip(chars_to_remove)\n",
    "            print(line_striped)\n",
    "            reversed_line = line_striped[::-1]\n",
    "            lines.append(reversed_line)\n",
    "            \n",
    "\n",
    "    \n",
    "    with open(output_filename, 'w', encoding='utf-8') as outfile:\n",
    "        for line in lines:\n",
    "            outfile.write(line + '\\n')\n",
    "\n",
    "def main():\n",
    "    input_filename = 'input.txt'\n",
    "    output_filename = 'output.txt'\n",
    "    chars_to_remove = input(\"Введите набор символов для удаления с правого края каждой строки: \")\n",
    "\n",
    "    try:\n",
    "        line_changing(input_filename, output_filename, chars_to_remove)\n",
    "    except FileNotFoundError:\n",
    "        print(f\"Ошибка: Файл {input_filename} не найден.\")\n",
    "    except IOError as e:\n",
    "        print(f\"Ошибка при работе с файлом: {e}\")"
   ]
  },
  {
   "cell_type": "code",
   "execution_count": 23,
   "id": "9534febf-387d-472d-932d-f9713024771f",
   "metadata": {},
   "outputs": [
    {
     "name": "stdin",
     "output_type": "stream",
     "text": [
      "Введите набор символов для удаления с правого края каждой строки:  z\n"
     ]
    },
    {
     "name": "stdout",
     "output_type": "stream",
     "text": [
      "z\n",
      "Matvey\n",
      "Dima\n",
      "Vzitya\n"
     ]
    }
   ],
   "source": [
    "main()"
   ]
  }
 ],
 "metadata": {
  "kernelspec": {
   "display_name": "Python 3 (ipykernel)",
   "language": "python",
   "name": "python3"
  },
  "language_info": {
   "codemirror_mode": {
    "name": "ipython",
    "version": 3
   },
   "file_extension": ".py",
   "mimetype": "text/x-python",
   "name": "python",
   "nbconvert_exporter": "python",
   "pygments_lexer": "ipython3",
   "version": "3.11.7"
  }
 },
 "nbformat": 4,
 "nbformat_minor": 5
}
