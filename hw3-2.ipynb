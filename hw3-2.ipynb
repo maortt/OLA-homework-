{
 "cells": [
  {
   "cell_type": "code",
   "execution_count": 3,
   "id": "f6ec415a-5fdf-415c-881c-af614f4f952c",
   "metadata": {},
   "outputs": [],
   "source": [
    "import pandas as pd"
   ]
  },
  {
   "cell_type": "code",
   "execution_count": 14,
   "id": "647ae4f7-5569-4d93-9d3e-ebb550614b89",
   "metadata": {},
   "outputs": [],
   "source": [
    "def read_info(input_filename):\n",
    "    try:\n",
    "        df_main = pd.read_csv(input_filename, delimiter=':', header=None, names=['Student', 'Courses'])\n",
    "        df_main['Courses'] = df_main['Courses'].apply(lambda x: [value.strip() for value in x.split(',')])\n",
    "        df_bijective = df_main.explode('Courses')\n",
    "        return df_bijective\n",
    "        \n",
    "    except FileNotFoundError:\n",
    "        print(f\"Ошибка: Файл {input_filename} не найден.\")\n",
    "        return None\n",
    "        \n",
    "    except pd.errors.EmptyDataError:\n",
    "        print(\"Ошибка: Входной файл пуст.\")\n",
    "        return None\n",
    "        \n",
    "    except Exception as e:\n",
    "        print(f\"Произошла ошибка при чтении файла: {e}\")\n",
    "        return None\n",
    "\n",
    "def find_students(df, course_name):\n",
    "    if df is not None:\n",
    "        students_enrolled = df[df['Courses'] == course_name]\n",
    "        if not students_enrolled.empty:\n",
    "            print(f\"Студенты, записанные на курс '{course_name}':\")\n",
    "            print(*students_enrolled['Student'], sep=', ')\n",
    "        else:\n",
    "            print(f\"Курс '{course_name}' отсутствует или на него никто не записан.\")\n",
    "    else:\n",
    "        print(\"Ошибка: Не удалось загрузить данные.\")\n",
    "\n",
    "def main():\n",
    "    input_filename = 'input.txt'\n",
    "    df = read_info(input_filename)\n",
    "    course_name = input(\"Введите название курса: \")\n",
    "    find_students(df, course_name)"
   ]
  },
  {
   "cell_type": "code",
   "execution_count": 15,
   "id": "93099344-01d7-4560-acbd-5d515baffe04",
   "metadata": {},
   "outputs": [
    {
     "name": "stdin",
     "output_type": "stream",
     "text": [
      "Введите название курса:  Math\n"
     ]
    },
    {
     "name": "stdout",
     "output_type": "stream",
     "text": [
      "Студенты, записанные на курс 'Math':\n",
      "Matvey, Vitya\n"
     ]
    }
   ],
   "source": [
    "main()"
   ]
  }
 ],
 "metadata": {
  "kernelspec": {
   "display_name": "Python 3 (ipykernel)",
   "language": "python",
   "name": "python3"
  },
  "language_info": {
   "codemirror_mode": {
    "name": "ipython",
    "version": 3
   },
   "file_extension": ".py",
   "mimetype": "text/x-python",
   "name": "python",
   "nbconvert_exporter": "python",
   "pygments_lexer": "ipython3",
   "version": "3.11.7"
  }
 },
 "nbformat": 4,
 "nbformat_minor": 5
}
